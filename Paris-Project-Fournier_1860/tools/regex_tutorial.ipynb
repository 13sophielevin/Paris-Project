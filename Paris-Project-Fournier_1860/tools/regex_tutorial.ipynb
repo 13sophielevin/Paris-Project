{
 "cells": [
  {
   "cell_type": "code",
   "execution_count": 13,
   "metadata": {},
   "outputs": [
    {
     "name": "stdout",
     "output_type": "stream",
     "text": [
      "anything at\n"
     ]
    }
   ],
   "source": [
    "import re\n",
    "\n",
    "pattern = re.compile(\"\\w+\\s\\w+\") \n",
    "# Let's feed in some strings to match\n",
    "string = \"anything at all!\"\n",
    "# Then call a matching method to match our pattern\n",
    "result = pattern.match(string)\n",
    "print(result.group()) # will print out 'r'"
   ]
  },
  {
   "cell_type": "code",
   "execution_count": 4,
   "metadata": {},
   "outputs": [
    {
     "name": "stdout",
     "output_type": "stream",
     "text": [
      "a\n"
     ]
    }
   ],
   "source": [
    "import re\n",
    "\n",
    "patterns  = [\n",
    "    ('a.*', 'a'),\n",
    "    ('b.*', 'b'),\n",
    "]\n",
    "\n",
    "def lookup(s, patterns):\n",
    "    for pattern, value in patterns:\n",
    "        if re.search(pattern, s):\n",
    "            return value\n",
    "    return None\n",
    "\n",
    "print(lookup(\"apple\", patterns))"
   ]
  },
  {
   "cell_type": "code",
   "execution_count": 19,
   "metadata": {},
   "outputs": [
    {
     "name": "stdout",
     "output_type": "stream",
     "text": [
      "avec licence de distribuer conformcmement les contenus acccessibles\n",
      "avec licence de distribuer conformemement les contenus acecessibles\n"
     ]
    }
   ],
   "source": [
    "some_string = 'avec licence de distribuer conformcmement les contenus acccessibles'\n",
    "\n",
    "print(some_string)\n",
    "\n",
    "medial_c_pattern = re.compile(r'([bcdfghjklmnpqrstvwxz])c([bcdfghjklmnpqrstvwxz])')\n",
    "\n",
    "cleaned = medial_c_pattern.sub(r'\\1e\\2', some_string)\n",
    "\n",
    "print(cleaned)"
   ]
  },
  {
   "cell_type": "code",
   "execution_count": 23,
   "metadata": {},
   "outputs": [
    {
     "name": "stdout",
     "output_type": "stream",
     "text": [
      "Musee, de Cluny\n"
     ]
    }
   ],
   "source": [
    "cleaned = 'Musee ,de Cluny'\n",
    "\n",
    "comma_pattern2 = re.compile(r'(\\w)\\s,')\n",
    "cleaned = comma_pattern2.sub(r'\\1, ', cleaned)\n",
    "print(cleaned)"
   ]
  },
  {
   "cell_type": "code",
   "execution_count": null,
   "metadata": {},
   "outputs": [],
   "source": []
  }
 ],
 "metadata": {
  "kernelspec": {
   "display_name": "Python 3",
   "language": "python",
   "name": "python3"
  },
  "language_info": {
   "codemirror_mode": {
    "name": "ipython",
    "version": 3
   },
   "file_extension": ".py",
   "mimetype": "text/x-python",
   "name": "python",
   "nbconvert_exporter": "python",
   "pygments_lexer": "ipython3",
   "version": "3.7.4"
  }
 },
 "nbformat": 4,
 "nbformat_minor": 2
}
