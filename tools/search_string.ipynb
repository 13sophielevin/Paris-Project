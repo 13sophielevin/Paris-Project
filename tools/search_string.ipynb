['Nôtre-Dame', 'Cité', r'du\s*Palais\s*de\s*Justice', 'Morgue', 'Conciergerie', 
                  r'du\s*Quai\s*de\s*l\'Horloge', 'Louvre', 'Tuileries', 'Thermes', 'Cluny', 
                  'Saint-Germain-des-Pres', 'Panthéon', 'Sainte-Geneviève', 'Palais-Royal', 'Bourse', 
                  'Nesle', 'Invalides', 'Halles', r'du\s*Tour\s*Saint-Jacques', r'du\s*Hôtel\s*de\s*Ville', 
                  'Grève', 'Bastille', r'du/s*Colonne\s*de\s*Juillet', 'Arènes', 'Boulevards', 
                  r'du\s*Boulevard\s*de\s*la\s*Madeleine', 'Capucines', r'du\s*Boulevard\s*des\s*Italiens', 
                  r'du\s*Boulevard\s*Montmartre', 'Poissonnière', 'Bonne-Nouvelle', 'Saint-Denis', 
                  r'du\s*Boulevard\s*du\s*Temple' r'du\s*Boulevard\s*des\s*Filles-du-Calvaire', 
                  'Beaumarchais', r'du\s*rue\s*Saint-Jacques', r'du\s*rue\s*Saint-Denis', 
                  r'du\s*Faubourg\s*Saint-Honoré', r'du\s*rue\s*du\s*Faubourg\s*Saint-Antoine', 
                  'Champs-Elysées', 'Concorde', 'Vendôme', 'Caire', r'du\s*Cour\s*des\*Miracles', 'Montfaucon']

Same string without line breaks.

['Nôtre-Dame', 'Cité', r'du\s*Palais\s*de\s*Justice', 'Morgue', 'Conciergerie', r'du\s*Quai\s*de\s*l\'Horloge', 'Louvre', 'Tuileries', 'Thermes', 'Cluny', 'Saint-Germain-des-Pres', 'Panthéon', 'Sainte-Geneviève', 'Palais-Royal', 'Bourse', 'Nesle', 'Invalides', 'Halles', r'du\s*Tour\s*Saint-Jacques', r'du\s*Hôtel\s*de\s*Ville' 'Grève', 'Bastille', r'du/s*Colonne\s*de\s*Juillet', 'Arènes', 'Boulevards', r'du\s*Boulevard\s*de\s*la\s*Madeleine', 'Capucines', r'du\s*Boulevard\s*des\s*Italiens', r'du\s*Boulevard\s*Montmartre', r'du\sBoulevard\s*Poissonnière', 'Bonne-Nouvelle', 'Saint-Denis', r'du\s*Boulevard\s*du\s*Temple' r'du\s*Boulevard\s*des\s*Filles-du-Calvaire', 'Beaumarchais', r'du\s*rue\s*Saint-Jacques', r'du\s*rue\s*Saint-Denis', r'du\s*Faubourg\s*Saint-Honoré', r'du\s*rue\s*du\s*Faubourg\s*Saint-Antoine', 'Champs-Elysées', 'Concorde', 'Vendôme', 'Caire', r'du\s*Cour\s*des\*Miracles', 'Montfaucon']

Same string without regex items:


['Nôtre-Dame', 'Cité', 'Morgue', 'Conciergerie', 'Louvre', 'Tuileries', 'Thermes', 'Cluny', 'Saint-Germain-des-Pres', 'Panthéon', 'Sainte-Geneviève', 'Palais-Royal', 'Bourse', 'Nesle', 'Invalides', 'Halles', 'Hôtel de Ville' 'Grève', 'Bastille', 'Arènes', 'Boulevards', 'Capucines', 'Poissonnière', 'Bonne-Nouvelle', 'Saint-Denis', 'Beaumarchais', 'Champs-Elysées', 'Concorde', 'Vendôme', 'Caire', 'Montfaucon']


