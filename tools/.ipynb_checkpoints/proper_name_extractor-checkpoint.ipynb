{
 "cells": [
  {
   "cell_type": "code",
   "execution_count": 3,
   "metadata": {},
   "outputs": [
    {
     "name": "stdout",
     "output_type": "stream",
     "text": [
      "67 files in path\n"
     ]
    },
    {
     "name": "stderr",
     "output_type": "stream",
     "text": [
      "IOPub data rate exceeded.\n",
      "The notebook server will temporarily stop sending output\n",
      "to the client in order to avoid crashing it.\n",
      "To change this limit, set the config variable\n",
      "`--NotebookApp.iopub_data_rate_limit`.\n",
      "\n",
      "Current values:\n",
      "NotebookApp.iopub_data_rate_limit=1000000.0 (bytes/sec)\n",
      "NotebookApp.rate_limit_window=3.0 (secs)\n",
      "\n"
     ]
    }
   ],
   "source": [
    "import glob\n",
    "from nltk import pos_tag\n",
    "\n",
    "paths_to_files = glob.glob('/home/seth/Notes/HDW/textbase/xml/*.xml')\n",
    "\n",
    "print(len(paths_to_files),'files in path')\n",
    "proper_nouns = []\n",
    "for file in paths_to_files:\n",
    "    text = open(file).read()\n",
    "    for word in text:\n",
    "        if word[0].isupper():\n",
    "            proper_nouns.append(word)\n",
    "            #tagged_text = pos_tag(text.split())\n",
    "    #for word,pos in tagged_text:\n",
    "     #   if pos == 'NNP':\n",
    "      #      proper_nouns.append(word)\n",
    "print('done')\n",
    "print(proper_nouns)        "
   ]
  },
  {
   "cell_type": "code",
   "execution_count": null,
   "metadata": {},
   "outputs": [],
   "source": []
  }
 ],
 "metadata": {
  "kernelspec": {
   "display_name": "Python 3",
   "language": "python",
   "name": "python3"
  },
  "language_info": {
   "codemirror_mode": {
    "name": "ipython",
    "version": 3
   },
   "file_extension": ".py",
   "mimetype": "text/x-python",
   "name": "python",
   "nbconvert_exporter": "python",
   "pygments_lexer": "ipython3",
   "version": "3.7.4"
  }
 },
 "nbformat": 4,
 "nbformat_minor": 2
}
