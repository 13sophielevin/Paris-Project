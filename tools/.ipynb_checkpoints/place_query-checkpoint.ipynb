{
 "cells": [
  {
   "cell_type": "code",
   "execution_count": 16,
   "metadata": {},
   "outputs": [
    {
     "name": "stdout",
     "output_type": "stream",
     "text": [
      "Searching /home/seth/Notes/HDW/test/*.txt. To search another path, change path variable in script.\n",
      "Done.\n",
      "Done.\n"
     ]
    }
   ],
   "source": [
    "import glob\n",
    "import re\n",
    "\n",
    "def findall(p, s):\n",
    "    '''Yields all the positions of\n",
    "    the pattern p in the string s.'''\n",
    "    i = s.find(p)\n",
    "    while i != -1:\n",
    "        yield i\n",
    "        i = s.find(p, i+1)\n",
    "\n",
    "def place_query(s):\n",
    "    \"\"\"\n",
    "    Searches across all files in a path for a given string.\n",
    "    \n",
    "    Input:\n",
    "        \n",
    "        string s\n",
    "\n",
    "    Return:\n",
    "        list of strings\n",
    "    \"\"\"\n",
    "\n",
    "    \n",
    "    \n",
    "    path = '/home/seth/Notes/HDW/test/*.txt'\n",
    "    filenames = glob.glob(path)    \n",
    "    print('Searching /home/seth/Notes/HDW/test/*.txt. To search another path, change path variable in script.')\n",
    "    for name in filenames:\n",
    "        oldname = name.rsplit('.')\n",
    "        hits_name = oldname[0]+'_hits.txt'          #Create a name for the \"hits\" file for each document.\n",
    "        \n",
    "        hits = []\n",
    "        file = open(name)                       #open and read document file into variable \"text\".\n",
    "        text = file.read()\n",
    "        if text.find(s) == 0:                           #Skip the current document if no instance found\n",
    "                continue\n",
    "        else:\n",
    "            instance = findall(s, text)\n",
    "            #block = text[instance - 200:instance + 1500]           #retrieve an arbitrary 1700 characters around instance\n",
    "            #hits.append(block)                                                    #append to hits list\n",
    "            hits.append(instance)\n",
    "            \n",
    "            hits_file = open(hits_name, \"w+\")       #Write the cleaned-up string to the new file, and close it.\n",
    "            hits_file.write(str(hits))\n",
    "            hits_file.close()\n",
    "print(\"Done.\")\n",
    "\n",
    "place_query('Louvre')            "
   ]
  },
  {
   "cell_type": "code",
   "execution_count": null,
   "metadata": {},
   "outputs": [],
   "source": []
  }
 ],
 "metadata": {
  "kernelspec": {
   "display_name": "Python 3",
   "language": "python",
   "name": "python3"
  },
  "language_info": {
   "codemirror_mode": {
    "name": "ipython",
    "version": 3
   },
   "file_extension": ".py",
   "mimetype": "text/x-python",
   "name": "python",
   "nbconvert_exporter": "python",
   "pygments_lexer": "ipython3",
   "version": "3.7.4"
  }
 },
 "nbformat": 4,
 "nbformat_minor": 2
}
