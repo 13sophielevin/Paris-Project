{
 "cells": [
  {
   "cell_type": "code",
   "execution_count": null,
   "metadata": {},
   "outputs": [],
   "source": [
    "Version with dictionary substitutions and regular expression patterns. Seems to work."
   ]
  },
  {
   "cell_type": "code",
   "execution_count": 4,
   "metadata": {},
   "outputs": [
    {
     "name": "stdout",
     "output_type": "stream",
     "text": [
      "Done\n"
     ]
    }
   ],
   "source": [
    "import glob\n",
    "import re\n",
    "from contextlib import contextmanager\n",
    "import os\n",
    "\n",
    "@contextmanager\n",
    "def cd(newdir):\n",
    "    prevdir = os.getcwd()\n",
    "    os.chdir(os.path.expanduser(newdir))\n",
    "    try:\n",
    "        yield\n",
    "    finally:\n",
    "        os.chdir(prevdir)\n",
    "\n",
    "\n",
    "path = '/home/seth/Notes/HDW/textbase/messy/*.txt'\n",
    "filenames = glob.glob(path)                 #Establish the list of files on which to operate.\n",
    "subs = {'aicnt': 'aient', ' allerà ': ' aller à ', 'avecun': 'avec un', ' bonre ': ' bonne ', ' cct ': ' cet ', \n",
    "        ' cctte ': ' cette ', ' cst ': ' est ', \n",
    "        ' ct ': ' et ', ' cu ': ' eu ', 'cux ': 'eux ', 'ccrtain': 'certain', ' dansla': ' dans la', \n",
    "        ' dansle': ' dans le', ' dansles': ' dans les', 'daris': 'dans', 'dù': 'dû', 'êlre': 'être', \n",
    "        ' etun ': 'et un', 'enx': 'eux', ' ge ': ' ce ', 'ilest': 'il est',\n",
    "        ' lcur ': ' leur ', 'lamême': 'la même', 'lemême': 'le même', ' nc ': ' ne ', 'Panis': 'Paris', \n",
    "        'plusicurs': 'plusieurs', 'qne': 'que', \n",
    "        ' scra ': ' sera ', ' scrai': ' serai', ' surla ': ' sur la ', ' surle ': ' sur le ', \n",
    "        ' surles ': ' sur les ', 'T1': 'Il', ' toutc ': ' toute ', ' toutcs ': ' toutes ', '1à': 'là', '1e': 'le', \n",
    "        '1a': 'la', '1\\]': 'Il', '1%': '1er', '1!': 'Il', '!a': 'la', '!e': 'le', '[*': '1er', '_': ' ' \n",
    "         }\n",
    "\n",
    "\n",
    "for name in filenames:                      #Loop over all files in corpus. For each file:\n",
    "    oldname = name.rsplit('.')\n",
    "    newname = oldname[0]+'_CL.txt'          #Create a new name for the cleaned file\n",
    "    \n",
    "    file = open(name)                       #open and read the existing file into variable \"raw\".\n",
    "    raw = file.read()\n",
    "\n",
    "    \n",
    "\n",
    "    #Deletions and replacements using the dictionary happen here.\n",
    "    for key, value in subs.items():\n",
    "        if key in raw:\n",
    "            raw = raw.replace(key, value)\n",
    "    \n",
    "    \n",
    "    #Deletions and replacements using regex patterns.\n",
    "    newline_pattern1 = re.compile(r'\\n+(?=[.,-_a-z0-9\\s])') #remove newlines that come before anything other than\n",
    "    cleaned = newline_pattern1.sub(' ', raw)                   #a capital letter.\n",
    "    \n",
    "    date_pattern = re.compile(r'4(?=\\d\\d\\d)')             #fix years beginning 4 instead of 1: 4869\n",
    "    cleaned = date_pattern.sub('1', cleaned)\n",
    "    \n",
    "    cap_pattern1 = re.compile(r'([a-z])([A-Z])')          #sub \"par Julien\" for \"parJulien\"\n",
    "    cleaned = cap_pattern1.sub(r'\\1 \\2', cleaned)\n",
    "    \n",
    "    medial_c_pattern = re.compile(r'([bdfghjklmnpqvwxz])c([bdfgjkmnpqvwxz])') #sub e for c when between \n",
    "    cleaned = medial_c_pattern.sub(r'\\1e\\2', cleaned)                         # certain consonants.    \n",
    "    \n",
    "    period_pattern1 = re.compile(r'\\.(?=[A-Z])')                  #sub \". Word\"  for \".Word\"\n",
    "    cleaned = period_pattern1.sub('. ', cleaned) \n",
    "    \n",
    "    comma_pattern1 = re.compile(r'\\,\\w')                   #sub  \", word\" for \",word\"\n",
    "    cleaned = comma_pattern1.sub(', ', cleaned)\n",
    "    \n",
    "    comma_pattern2 = re.compile(r'(\\w)\\s,')               #another comma rule\n",
    "    cleaned = comma_pattern2.sub(r'\\1, ', cleaned)\n",
    "    \n",
    "    apostrop_pattern1 = re.compile(r'd\\'\\s')             #sub \"d'\" for \"d' \"\n",
    "    cleaned = apostrop_pattern1.sub('d\\'', cleaned)\n",
    "    \n",
    "    apostrop_pattern2 = re.compile(r'm\\'\\s')             #sub \"m'\" for \"m' \"\n",
    "    cleaned = apostrop_pattern2.sub('m\\'', cleaned)\n",
    "    \n",
    "    apostrop_pattern3 = re.compile(r'n\\'\\s')             #sub \"n'\" for \"n' \"\n",
    "    cleaned = apostrop_pattern3.sub('n\\'', cleaned)\n",
    "    \n",
    "    apostrop_pattern4 = re.compile(r's\\'\\s')             #sub \"s'\" for \"s' \"\n",
    "    cleaned = apostrop_pattern4.sub('s\\'', cleaned)                               \n",
    "    \n",
    "    apostrop_pattern5 = re.compile(r't\\'\\s')             #sub \"t'\" for \"t' \"\n",
    "    cleaned = apostrop_pattern5.sub('t\\'', cleaned)                                \n",
    "    \n",
    "   \n",
    "        \n",
    "    \n",
    "    os.chdir('/home/seth/Notes/HDW/textbase/clean') #this part doesn't work. New files appear in old path.\n",
    "    clean_file = open(newname, \"w+\")       #Write the cleaned-up string to the new file, and close it.\n",
    "    clean_file.write(cleaned)\n",
    "    clean_file.close()\n",
    "    #print(cleaned)                        #Debugging\n",
    "print('Done')"
   ]
  },
  {
   "cell_type": "code",
   "execution_count": null,
   "metadata": {},
   "outputs": [],
   "source": []
  },
  {
   "cell_type": "code",
   "execution_count": null,
   "metadata": {},
   "outputs": [],
   "source": []
  }
 ],
 "metadata": {
  "kernelspec": {
   "display_name": "Python 3",
   "language": "python",
   "name": "python3"
  },
  "language_info": {
   "codemirror_mode": {
    "name": "ipython",
    "version": 3
   },
   "file_extension": ".py",
   "mimetype": "text/x-python",
   "name": "python",
   "nbconvert_exporter": "python",
   "pygments_lexer": "ipython3",
   "version": "3.7.4"
  }
 },
 "nbformat": 4,
 "nbformat_minor": 2
}
