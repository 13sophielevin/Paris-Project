{
 "cells": [
  {
   "cell_type": "code",
   "execution_count": 13,
   "metadata": {},
   "outputs": [
    {
     "name": "stdout",
     "output_type": "stream",
     "text": [
      "anything at\n"
     ]
    }
   ],
   "source": [
    "import re\n",
    "\n",
    "pattern = re.compile(\"\\w+\\s\\w+\") \n",
    "# Let's feed in some strings to match\n",
    "string = \"anything at all!\"\n",
    "# Then call a matching method to match our pattern\n",
    "result = pattern.match(string)\n",
    "print(result.group()) # will print out 'r'"
   ]
  },
  {
   "cell_type": "code",
   "execution_count": 4,
   "metadata": {},
   "outputs": [
    {
     "name": "stdout",
     "output_type": "stream",
     "text": [
      "a\n"
     ]
    }
   ],
   "source": [
    "import re\n",
    "\n",
    "patterns  = [\n",
    "    ('a.*', 'a'),\n",
    "    ('b.*', 'b'),\n",
    "]\n",
    "\n",
    "def lookup(s, patterns):\n",
    "    for pattern, value in patterns:\n",
    "        if re.search(pattern, s):\n",
    "            return value\n",
    "    return None\n",
    "\n",
    "print(lookup(\"apple\", patterns))"
   ]
  },
  {
   "cell_type": "code",
   "execution_count": null,
   "metadata": {},
   "outputs": [],
   "source": []
  }
 ],
 "metadata": {
  "kernelspec": {
   "display_name": "Python 3",
   "language": "python",
   "name": "python3"
  },
  "language_info": {
   "codemirror_mode": {
    "name": "ipython",
    "version": 3
   },
   "file_extension": ".py",
   "mimetype": "text/x-python",
   "name": "python",
   "nbconvert_exporter": "python",
   "pygments_lexer": "ipython3",
   "version": "3.7.4"
  }
 },
 "nbformat": 4,
 "nbformat_minor": 2
}
